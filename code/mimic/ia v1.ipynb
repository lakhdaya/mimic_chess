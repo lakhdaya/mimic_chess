{
 "cells": [
  {
   "cell_type": "code",
   "execution_count": 1,
   "metadata": {},
   "outputs": [],
   "source": [
    "import pandas as pd\n",
    "import numpy as np\n",
    "import tensorflow as tf\n",
    "from tqdm.notebook import tqdm"
   ]
  },
  {
   "cell_type": "code",
   "execution_count": 2,
   "metadata": {},
   "outputs": [],
   "source": [
    "from ast import literal_eval\n",
    "\n",
    "games = pd.read_csv(\"data/fen_positions.csv\")\n"
   ]
  },
  {
   "cell_type": "code",
   "execution_count": 3,
   "metadata": {},
   "outputs": [],
   "source": [
    "def convert(l):\n",
    "    return np.float32([int(i) for i in l.split(',')[1:-1]])"
   ]
  },
  {
   "cell_type": "code",
   "execution_count": 4,
   "metadata": {},
   "outputs": [
    {
     "data": {
      "application/vnd.jupyter.widget-view+json": {
       "model_id": "34b48d2b87ab4b289952b7041a8a1cac",
       "version_major": 2,
       "version_minor": 0
      },
      "text/plain": [
       "  0%|          | 0/72766 [00:00<?, ?it/s]"
      ]
     },
     "metadata": {},
     "output_type": "display_data"
    }
   ],
   "source": [
    "X = games[\"bitboard\"]\n",
    "X = np.array([ np.array(convert(board)) for board in tqdm(games[\"bitboard\"])])\n"
   ]
  },
  {
   "cell_type": "code",
   "execution_count": 5,
   "metadata": {},
   "outputs": [
    {
     "data": {
      "text/plain": [
       "(72766, 771)"
      ]
     },
     "execution_count": 5,
     "metadata": {},
     "output_type": "execute_result"
    }
   ],
   "source": [
    "X.shape"
   ]
  },
  {
   "cell_type": "code",
   "execution_count": 6,
   "metadata": {},
   "outputs": [],
   "source": [
    "import tensorflow.keras\n",
    "from tqdm.notebook import tqdm\n",
    "from keras import layers, models\n",
    "from tensorflow.keras import optimizers\n",
    "from sklearn.model_selection import train_test_split\n",
    "from tensorflow.keras.utils import to_categorical\n",
    "\n",
    "Y = np.array([[0, 1] if wr<0.5 else [1, 0] for wr in games[\"winrate\"]])\n",
    "X_train, X_test, Y_train, Y_test = train_test_split(X, Y, test_size=0.3)\n",
    "\n"
   ]
  },
  {
   "cell_type": "code",
   "execution_count": 374,
   "metadata": {},
   "outputs": [
    {
     "name": "stdout",
     "output_type": "stream",
     "text": [
      "72766 72766\n"
     ]
    }
   ],
   "source": [
    "print(np.sum(Y == 1), np.sum( Y == 0))"
   ]
  },
  {
   "cell_type": "code",
   "execution_count": 375,
   "metadata": {},
   "outputs": [
    {
     "data": {
      "text/plain": [
       "(72766, 2)"
      ]
     },
     "execution_count": 375,
     "metadata": {},
     "output_type": "execute_result"
    }
   ],
   "source": [
    "Y.shape"
   ]
  },
  {
   "cell_type": "code",
   "execution_count": 376,
   "metadata": {},
   "outputs": [],
   "source": [
    "\n",
    "from keras import layers, models\n",
    "from tensorflow.keras import optimizers\n",
    "\n",
    "input_dim = (128,)\n",
    "\n",
    "model = models.Sequential()\n",
    "\n",
    "model.add(layers.Dropout(rate=0.3))\n",
    "model.add(layers.Dense(2048, activation='relu'))\n",
    "model.add(layers.Dropout(rate=0.3))\n",
    "\n",
    "model.add(layers.Dense(1024, activation='relu'))\n",
    "model.add(layers.Dropout(rate=0.3))\n",
    "\n",
    "model.add(layers.Dense(1024, activation='relu'))\n",
    "model.add(layers.Dense(512, activation='relu'))\n",
    "\n",
    "model.add(layers.Dense(2, activation='softmax'))\n",
    "\n",
    "model.compile(loss='binary_crossentropy', optimizer=optimizers.Adam(learning_rate=1e-4), metrics=['acc'])"
   ]
  },
  {
   "cell_type": "code",
   "execution_count": 377,
   "metadata": {},
   "outputs": [
    {
     "name": "stdout",
     "output_type": "stream",
     "text": [
      "Epoch 1/20\n",
      "1433/1433 [==============================] - 39s 27ms/step - loss: 0.5053 - acc: 0.7707 - val_loss: 0.4040 - val_acc: 0.8347\n",
      "Epoch 2/20\n",
      "1433/1433 [==============================] - 40s 28ms/step - loss: 0.3902 - acc: 0.8280 - val_loss: 0.2629 - val_acc: 0.9048\n",
      "Epoch 3/20\n",
      "1433/1433 [==============================] - 41s 28ms/step - loss: 0.3062 - acc: 0.8687 - val_loss: 0.2092 - val_acc: 0.9321\n",
      "Epoch 4/20\n",
      "1433/1433 [==============================] - 41s 29ms/step - loss: 0.2572 - acc: 0.8911 - val_loss: 0.1746 - val_acc: 0.9468\n",
      "Epoch 5/20\n",
      "1433/1433 [==============================] - 41s 28ms/step - loss: 0.2261 - acc: 0.9056 - val_loss: 0.1464 - val_acc: 0.9495\n",
      "Epoch 6/20\n",
      "1433/1433 [==============================] - 41s 29ms/step - loss: 0.2101 - acc: 0.9125 - val_loss: 0.1305 - val_acc: 0.9494\n",
      "Epoch 7/20\n",
      "1433/1433 [==============================] - 41s 28ms/step - loss: 0.1917 - acc: 0.9199 - val_loss: 0.1212 - val_acc: 0.9576\n",
      "Epoch 8/20\n",
      "1433/1433 [==============================] - 41s 29ms/step - loss: 0.1796 - acc: 0.9251 - val_loss: 0.1098 - val_acc: 0.9594\n",
      "Epoch 9/20\n",
      "1433/1433 [==============================] - 42s 29ms/step - loss: 0.1695 - acc: 0.9297 - val_loss: 0.1021 - val_acc: 0.9643\n",
      "Epoch 10/20\n",
      "1433/1433 [==============================] - 41s 29ms/step - loss: 0.1616 - acc: 0.9324 - val_loss: 0.0970 - val_acc: 0.9617\n",
      "Epoch 11/20\n",
      "1433/1433 [==============================] - 41s 29ms/step - loss: 0.1498 - acc: 0.9374 - val_loss: 0.0991 - val_acc: 0.9668\n",
      "Epoch 12/20\n",
      "1433/1433 [==============================] - 42s 29ms/step - loss: 0.1481 - acc: 0.9387 - val_loss: 0.0952 - val_acc: 0.9670\n",
      "Epoch 13/20\n",
      "1433/1433 [==============================] - 48s 34ms/step - loss: 0.1382 - acc: 0.9434 - val_loss: 0.0857 - val_acc: 0.9678\n",
      "Epoch 14/20\n",
      "1433/1433 [==============================] - 42s 29ms/step - loss: 0.1350 - acc: 0.9445 - val_loss: 0.0833 - val_acc: 0.9660\n",
      "Epoch 15/20\n",
      "1433/1433 [==============================] - 42s 29ms/step - loss: 0.1303 - acc: 0.9458 - val_loss: 0.0734 - val_acc: 0.9733\n",
      "Epoch 16/20\n",
      "1433/1433 [==============================] - 43s 30ms/step - loss: 0.1267 - acc: 0.9478 - val_loss: 0.0743 - val_acc: 0.9704\n",
      "Epoch 17/20\n",
      "1433/1433 [==============================] - 42s 29ms/step - loss: 0.1280 - acc: 0.9477 - val_loss: 0.0752 - val_acc: 0.9739\n",
      "Epoch 18/20\n",
      "1433/1433 [==============================] - 42s 29ms/step - loss: 0.1197 - acc: 0.9503 - val_loss: 0.0718 - val_acc: 0.9719\n",
      "Epoch 19/20\n",
      "1433/1433 [==============================] - 41s 29ms/step - loss: 0.1179 - acc: 0.9514 - val_loss: 0.0694 - val_acc: 0.9731\n",
      "Epoch 20/20\n",
      "1433/1433 [==============================] - 43s 30ms/step - loss: 0.1158 - acc: 0.9520 - val_loss: 0.0673 - val_acc: 0.9725\n"
     ]
    }
   ],
   "source": [
    "history = model.fit(\n",
    "      X_train, Y_train,\n",
    "      epochs=20,\n",
    "      validation_split=0.1)"
   ]
  },
  {
   "cell_type": "code",
   "execution_count": 378,
   "metadata": {},
   "outputs": [
    {
     "name": "stdout",
     "output_type": "stream",
     "text": [
      "20 20\n"
     ]
    },
    {
     "data": {
      "image/png": "[encoded data removed]",
      "text/plain": [
       "<Figure size 432x288 with 1 Axes>"
      ]
     },
     "metadata": {
      "needs_background": "light"
     },
     "output_type": "display_data"
    },
    {
     "data": {
      "image/png": "[encoded data removed]",
      "text/plain": [
       "<Figure size 432x288 with 1 Axes>"
      ]
     },
     "metadata": {
      "needs_background": "light"
     },
     "output_type": "display_data"
    }
   ],
   "source": [
    "import matplotlib.pyplot as plt\n",
    "\n",
    "acc = history.history['acc']\n",
    "val_acc = history.history['val_acc']\n",
    "loss = history.history['loss']\n",
    "val_loss = history.history['val_loss']\n",
    "\n",
    "epochs = range(len(acc))\n",
    "\n",
    "print(len(acc), len(val_acc))\n",
    "\n",
    "plt.plot(epochs, acc, 'b', label='Training acc')\n",
    "plt.plot(epochs, val_acc, 'm', label='Validation acc')\n",
    "plt.title('Training and validation accuracy')\n",
    "plt.legend()\n",
    "\n",
    "plt.figure()\n",
    "\n",
    "plt.plot(epochs, loss, 'b', label='Training loss')\n",
    "plt.plot(epochs, val_loss, 'm', label='Validation loss')\n",
    "plt.title('Training and validation loss')\n",
    "plt.legend()\n",
    "\n",
    "plt.show()"
   ]
  },
  {
   "cell_type": "code",
   "execution_count": 385,
   "metadata": {},
   "outputs": [],
   "source": [
    "Y_pred = np.argmax(model.predict(X_test), axis=1)"
   ]
  },
  {
   "cell_type": "code",
   "execution_count": 389,
   "metadata": {},
   "outputs": [
    {
     "data": {
      "text/plain": [
       "array([[1, 0],\n",
       "       [0, 1],\n",
       "       [1, 0],\n",
       "       ...,\n",
       "       [1, 0],\n",
       "       [0, 1],\n",
       "       [1, 0]])"
      ]
     },
     "execution_count": 389,
     "metadata": {},
     "output_type": "execute_result"
    }
   ],
   "source": [
    "Y_pred"
   ]
  },
  {
   "cell_type": "code",
   "execution_count": 393,
   "metadata": {},
   "outputs": [
    {
     "data": {
      "text/plain": [
       "21302"
      ]
     },
     "execution_count": 393,
     "metadata": {},
     "output_type": "execute_result"
    }
   ],
   "source": [
    "summ=0\n",
    "for i in range(Y_pred.shape[0]):\n",
    "    if(Y_test[i][Y_pred[i]]):\n",
    "        summ+=1\n",
    "summ"
   ]
  },
  {
   "cell_type": "code",
   "execution_count": 394,
   "metadata": {},
   "outputs": [
    {
     "data": {
      "text/plain": [
       "(21830, 2)"
      ]
     },
     "execution_count": 394,
     "metadata": {},
     "output_type": "execute_result"
    }
   ],
   "source": [
    "Y_test.shape"
   ]
  },
  {
   "cell_type": "code",
   "execution_count": 397,
   "metadata": {},
   "outputs": [
    {
     "name": "stdout",
     "output_type": "stream",
     "text": [
      "INFO:tensorflow:Assets written to: models/10k_moves\\assets\n"
     ]
    },
    {
     "name": "stderr",
     "output_type": "stream",
     "text": [
      "INFO:tensorflow:Assets written to: models/10k_moves\\assets\n"
     ]
    }
   ],
   "source": [
    "model.save(\"models/10k_moves\")"
   ]
  },
  {
   "cell_type": "code",
   "execution_count": null,
   "metadata": {},
   "outputs": [],
   "source": []
  }
 ],
 "metadata": {
  "kernelspec": {
   "display_name": "Python 3 (ipykernel)",
   "language": "python",
   "name": "python3"
  },
  "language_info": {
   "codemirror_mode": {
    "name": "ipython",
    "version": 3
   },
   "file_extension": ".py",
   "mimetype": "text/x-python",
   "name": "python",
   "nbconvert_exporter": "python",
   "pygments_lexer": "ipython3",
   "version": "3.9.12"
  }
 },
 "nbformat": 4,
 "nbformat_minor": 2
}
