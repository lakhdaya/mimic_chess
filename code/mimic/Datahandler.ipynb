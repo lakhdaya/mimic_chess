{
 "cells": [
  {
   "cell_type": "code",
   "execution_count": 62,
   "metadata": {},
   "outputs": [
    {
     "ename": "SyntaxError",
     "evalue": "invalid syntax (Temp/ipykernel_9564/1142265103.py, line 7)",
     "output_type": "error",
     "traceback": [
      "\u001b[1;36m  File \u001b[1;32m\"C:\\Users\\yassi\\AppData\\Local\\Temp/ipykernel_9564/1142265103.py\"\u001b[1;36m, line \u001b[1;32m7\u001b[0m\n\u001b[1;33m    name_file =\u001b[0m\n\u001b[1;37m                ^\u001b[0m\n\u001b[1;31mSyntaxError\u001b[0m\u001b[1;31m:\u001b[0m invalid syntax\n"
     ]
    }
   ],
   "source": [
    "import pandas as pd\n",
    "import numpy as np\n",
    "import chess\n",
    "from tqdm.notebook import tqdm\n",
    "\n",
    "NAME = \"Carlsen, Magnus\"\n",
    "name_file = "
   ]
  },
  {
   "cell_type": "code",
   "execution_count": 63,
   "metadata": {},
   "outputs": [
    {
     "data": {
      "text/html": [
       "<div>\n",
       "<style scoped>\n",
       "    .dataframe tbody tr th:only-of-type {\n",
       "        vertical-align: middle;\n",
       "    }\n",
       "\n",
       "    .dataframe tbody tr th {\n",
       "        vertical-align: top;\n",
       "    }\n",
       "\n",
       "    .dataframe thead th {\n",
       "        text-align: right;\n",
       "    }\n",
       "</style>\n",
       "<table border=\"1\" class=\"dataframe\">\n",
       "  <thead>\n",
       "    <tr style=\"text-align: right;\">\n",
       "      <th></th>\n",
       "      <th>id_game</th>\n",
       "      <th>moves</th>\n",
       "      <th>date</th>\n",
       "      <th>white_player</th>\n",
       "      <th>id_white_player</th>\n",
       "      <th>black_player</th>\n",
       "      <th>id_black_player</th>\n",
       "      <th>white_elo</th>\n",
       "      <th>black_elo</th>\n",
       "      <th>avg_elo</th>\n",
       "      <th>event</th>\n",
       "      <th>site</th>\n",
       "      <th>eco</th>\n",
       "      <th>opening</th>\n",
       "      <th>id_opening</th>\n",
       "      <th>round</th>\n",
       "      <th>result</th>\n",
       "      <th>n_moves</th>\n",
       "      <th>id_download</th>\n",
       "    </tr>\n",
       "  </thead>\n",
       "  <tbody>\n",
       "    <tr>\n",
       "      <th>0</th>\n",
       "      <td>https://old.chesstempo.com/gamedb/game/4820223</td>\n",
       "      <td>1.e4 e5 2.Nf3 Nc6 3.Bc4 Bc5 4.c3 Nf6 5.d4 exd4...</td>\n",
       "      <td>2021-05-13</td>\n",
       "      <td>Abasov, Nijat Azad Oglu</td>\n",
       "      <td>https://old.chesstempo.com/gamedb/player/248</td>\n",
       "      <td>Safarli, Eltaj</td>\n",
       "      <td>https://old.chesstempo.com/gamedb/player/183497</td>\n",
       "      <td>2665.0</td>\n",
       "      <td>2598.0</td>\n",
       "      <td>2631.0</td>\n",
       "      <td>Azerbaijan Championship</td>\n",
       "      <td>asf.org.az</td>\n",
       "      <td>C53</td>\n",
       "      <td>Italian Game, Classical Variation, Greco Gambit</td>\n",
       "      <td>https://old.chesstempo.com/gamedb/opening/869</td>\n",
       "      <td>10</td>\n",
       "      <td>1-0</td>\n",
       "      <td>36.0</td>\n",
       "      <td>https://old.chesstempo.com/requests/download_g...</td>\n",
       "    </tr>\n",
       "    <tr>\n",
       "      <th>1</th>\n",
       "      <td>https://old.chesstempo.com/gamedb/game/4819358</td>\n",
       "      <td>1.e4 c5 2.Nf3 d6 3.d4 cxd4 4.Nxd4 Nf6 5.Nc3 a6...</td>\n",
       "      <td>2021-05-11</td>\n",
       "      <td>Abasov, Nijat Azad Oglu</td>\n",
       "      <td>https://old.chesstempo.com/gamedb/player/248</td>\n",
       "      <td>Muradli, Mahammad</td>\n",
       "      <td>https://old.chesstempo.com/gamedb/player/316504</td>\n",
       "      <td>2665.0</td>\n",
       "      <td>2449.0</td>\n",
       "      <td>2557.0</td>\n",
       "      <td>Azerbaijan Championship</td>\n",
       "      <td>asf.org.az</td>\n",
       "      <td>B94</td>\n",
       "      <td>Sicilian Defense, Najdorf Variation</td>\n",
       "      <td>https://old.chesstempo.com/gamedb/opening/2149</td>\n",
       "      <td>8</td>\n",
       "      <td>1-0</td>\n",
       "      <td>21.0</td>\n",
       "      <td>https://old.chesstempo.com/requests/download_g...</td>\n",
       "    </tr>\n",
       "    <tr>\n",
       "      <th>2</th>\n",
       "      <td>https://old.chesstempo.com/gamedb/game/4818704</td>\n",
       "      <td>1.d4 Nf6 2.c4 g6 3.Nc3 Bg7 4.e4 d6 5.Be2 O-O 6...</td>\n",
       "      <td>2021-05-09</td>\n",
       "      <td>Abasov, Nijat Azad Oglu</td>\n",
       "      <td>https://old.chesstempo.com/gamedb/player/248</td>\n",
       "      <td>Iskandarov, Misratdin Mehdi oglu</td>\n",
       "      <td>https://old.chesstempo.com/gamedb/player/92096</td>\n",
       "      <td>2665.0</td>\n",
       "      <td>2535.0</td>\n",
       "      <td>2600.0</td>\n",
       "      <td>Azerbaijan Championship</td>\n",
       "      <td>asf.org.az</td>\n",
       "      <td>E73</td>\n",
       "      <td>King's Indian Defense, Normal Variation, Stand...</td>\n",
       "      <td>https://old.chesstempo.com/gamedb/opening/1195</td>\n",
       "      <td>6</td>\n",
       "      <td>0-1</td>\n",
       "      <td>37.0</td>\n",
       "      <td>https://old.chesstempo.com/requests/download_g...</td>\n",
       "    </tr>\n",
       "    <tr>\n",
       "      <th>3</th>\n",
       "      <td>https://old.chesstempo.com/gamedb/game/4818558</td>\n",
       "      <td>1.d4 Nf6 2.c4 e6 3.g3 d5 4.Bg2 Be7 5.Nf3 O-O 6...</td>\n",
       "      <td>2021-05-08</td>\n",
       "      <td>Abbasov, Farid</td>\n",
       "      <td>https://old.chesstempo.com/gamedb/player/314</td>\n",
       "      <td>Abasov, Nijat Azad Oglu</td>\n",
       "      <td>https://old.chesstempo.com/gamedb/player/248</td>\n",
       "      <td>2528.0</td>\n",
       "      <td>2665.0</td>\n",
       "      <td>2596.0</td>\n",
       "      <td>Azerbaijan Championship</td>\n",
       "      <td>asf.org.az</td>\n",
       "      <td>E06</td>\n",
       "      <td>Catalan Opening, Closed Variation</td>\n",
       "      <td>https://old.chesstempo.com/gamedb/opening/317</td>\n",
       "      <td>5</td>\n",
       "      <td>½-½</td>\n",
       "      <td>32.0</td>\n",
       "      <td>https://old.chesstempo.com/requests/download_g...</td>\n",
       "    </tr>\n",
       "    <tr>\n",
       "      <th>4</th>\n",
       "      <td>https://old.chesstempo.com/gamedb/game/4820371</td>\n",
       "      <td>1.e4 e5 2.Nf3 Nf6 3.Nxe5 d6 4.Nf3 Nxe4 5.c4 Nc...</td>\n",
       "      <td>2021-05-07</td>\n",
       "      <td>Abasov, Nijat Azad Oglu</td>\n",
       "      <td>https://old.chesstempo.com/gamedb/player/248</td>\n",
       "      <td>Garayev, Kanan</td>\n",
       "      <td>https://old.chesstempo.com/gamedb/player/316060</td>\n",
       "      <td>2665.0</td>\n",
       "      <td>2331.0</td>\n",
       "      <td>2498.0</td>\n",
       "      <td>Azerbaijan Championship</td>\n",
       "      <td>asf.org.az</td>\n",
       "      <td>C42</td>\n",
       "      <td>Russian Game, Kaufmann Attack</td>\n",
       "      <td>https://old.chesstempo.com/gamedb/opening/1871</td>\n",
       "      <td>4</td>\n",
       "      <td>1-0</td>\n",
       "      <td>26.0</td>\n",
       "      <td>https://old.chesstempo.com/requests/download_g...</td>\n",
       "    </tr>\n",
       "  </tbody>\n",
       "</table>\n",
       "</div>"
      ],
      "text/plain": [
       "                                          id_game  \\\n",
       "0  https://old.chesstempo.com/gamedb/game/4820223   \n",
       "1  https://old.chesstempo.com/gamedb/game/4819358   \n",
       "2  https://old.chesstempo.com/gamedb/game/4818704   \n",
       "3  https://old.chesstempo.com/gamedb/game/4818558   \n",
       "4  https://old.chesstempo.com/gamedb/game/4820371   \n",
       "\n",
       "                                               moves        date  \\\n",
       "0  1.e4 e5 2.Nf3 Nc6 3.Bc4 Bc5 4.c3 Nf6 5.d4 exd4...  2021-05-13   \n",
       "1  1.e4 c5 2.Nf3 d6 3.d4 cxd4 4.Nxd4 Nf6 5.Nc3 a6...  2021-05-11   \n",
       "2  1.d4 Nf6 2.c4 g6 3.Nc3 Bg7 4.e4 d6 5.Be2 O-O 6...  2021-05-09   \n",
       "3  1.d4 Nf6 2.c4 e6 3.g3 d5 4.Bg2 Be7 5.Nf3 O-O 6...  2021-05-08   \n",
       "4  1.e4 e5 2.Nf3 Nf6 3.Nxe5 d6 4.Nf3 Nxe4 5.c4 Nc...  2021-05-07   \n",
       "\n",
       "              white_player                               id_white_player  \\\n",
       "0  Abasov, Nijat Azad Oglu  https://old.chesstempo.com/gamedb/player/248   \n",
       "1  Abasov, Nijat Azad Oglu  https://old.chesstempo.com/gamedb/player/248   \n",
       "2  Abasov, Nijat Azad Oglu  https://old.chesstempo.com/gamedb/player/248   \n",
       "3           Abbasov, Farid  https://old.chesstempo.com/gamedb/player/314   \n",
       "4  Abasov, Nijat Azad Oglu  https://old.chesstempo.com/gamedb/player/248   \n",
       "\n",
       "                       black_player  \\\n",
       "0                    Safarli, Eltaj   \n",
       "1                 Muradli, Mahammad   \n",
       "2  Iskandarov, Misratdin Mehdi oglu   \n",
       "3           Abasov, Nijat Azad Oglu   \n",
       "4                    Garayev, Kanan   \n",
       "\n",
       "                                   id_black_player  white_elo  black_elo  \\\n",
       "0  https://old.chesstempo.com/gamedb/player/183497     2665.0     2598.0   \n",
       "1  https://old.chesstempo.com/gamedb/player/316504     2665.0     2449.0   \n",
       "2   https://old.chesstempo.com/gamedb/player/92096     2665.0     2535.0   \n",
       "3     https://old.chesstempo.com/gamedb/player/248     2528.0     2665.0   \n",
       "4  https://old.chesstempo.com/gamedb/player/316060     2665.0     2331.0   \n",
       "\n",
       "   avg_elo                    event        site  eco  \\\n",
       "0   2631.0  Azerbaijan Championship  asf.org.az  C53   \n",
       "1   2557.0  Azerbaijan Championship  asf.org.az  B94   \n",
       "2   2600.0  Azerbaijan Championship  asf.org.az  E73   \n",
       "3   2596.0  Azerbaijan Championship  asf.org.az  E06   \n",
       "4   2498.0  Azerbaijan Championship  asf.org.az  C42   \n",
       "\n",
       "                                             opening  \\\n",
       "0    Italian Game, Classical Variation, Greco Gambit   \n",
       "1                Sicilian Defense, Najdorf Variation   \n",
       "2  King's Indian Defense, Normal Variation, Stand...   \n",
       "3                  Catalan Opening, Closed Variation   \n",
       "4                      Russian Game, Kaufmann Attack   \n",
       "\n",
       "                                       id_opening round result  n_moves  \\\n",
       "0   https://old.chesstempo.com/gamedb/opening/869    10    1-0     36.0   \n",
       "1  https://old.chesstempo.com/gamedb/opening/2149     8    1-0     21.0   \n",
       "2  https://old.chesstempo.com/gamedb/opening/1195     6    0-1     37.0   \n",
       "3   https://old.chesstempo.com/gamedb/opening/317     5    ½-½     32.0   \n",
       "4  https://old.chesstempo.com/gamedb/opening/1871     4    1-0     26.0   \n",
       "\n",
       "                                         id_download  \n",
       "0  https://old.chesstempo.com/requests/download_g...  \n",
       "1  https://old.chesstempo.com/requests/download_g...  \n",
       "2  https://old.chesstempo.com/requests/download_g...  \n",
       "3  https://old.chesstempo.com/requests/download_g...  \n",
       "4  https://old.chesstempo.com/requests/download_g...  "
      ]
     },
     "execution_count": 63,
     "metadata": {},
     "output_type": "execute_result"
    }
   ],
   "source": [
    "games = pd.read_csv(\"archive/chess/games_chesstempo.csv\")\n",
    "games.head()"
   ]
  },
  {
   "cell_type": "code",
   "execution_count": 64,
   "metadata": {
    "scrolled": true
   },
   "outputs": [
    {
     "data": {
      "text/plain": [
       "(1474, 19)"
      ]
     },
     "execution_count": 64,
     "metadata": {},
     "output_type": "execute_result"
    }
   ],
   "source": [
    "games = games[games[\"white_player\"] == NAME]\n",
    "games.shape"
   ]
  },
  {
   "cell_type": "code",
   "execution_count": 65,
   "metadata": {},
   "outputs": [],
   "source": [
    "def extract_moves(games):\n",
    "    moves = []\n",
    "    for col_moves in games[\"moves\"]:\n",
    "        col_moves = col_moves.split(' ')\n",
    "        moves.append([i if not i[0:1].isdigit() else i.split('.')[1] for i in col_moves][:-1])\n",
    "    for i, move in tqdm(enumerate(moves)):\n",
    "        for j, m in enumerate(move):\n",
    "            if \"e.p\" in m:\n",
    "                moves[i].pop(j)\n",
    "    return moves"
   ]
  },
  {
   "cell_type": "code",
   "execution_count": 66,
   "metadata": {},
   "outputs": [],
   "source": [
    "def from_str_to_int_win(win, color):\n",
    "    if '1-0' == win:\n",
    "        return 1\n",
    "    elif '0-1' == win:\n",
    "        return 0\n",
    "    return 0.5\n"
   ]
  },
  {
   "cell_type": "code",
   "execution_count": 67,
   "metadata": {},
   "outputs": [],
   "source": [
    "def extract_game_fen(moves, win, positions, times_played, number_of_win, color):\n",
    "    board = chess.Board()\n",
    "    win_int = from_str_to_int_win(win, color)\n",
    "    for i, move in enumerate(moves):\n",
    "        board.push_san(move)\n",
    "        if((i+color) % 2):\n",
    "            fen = board.epd()\n",
    "            if fen in positions:\n",
    "                index = positions.index(fen)\n",
    "                times_played[index]+=1\n",
    "                number_of_win[index]+=win_int\n",
    "            else:\n",
    "                positions.append(fen)\n",
    "                number_of_win.append(win_int)\n",
    "                times_played.append(1)\n",
    "    return positions, times_played, number_of_win"
   ]
  },
  {
   "cell_type": "code",
   "execution_count": 68,
   "metadata": {},
   "outputs": [],
   "source": [
    "position_pieces = {'P':0, 'N':1, 'B':2, 'R':3, 'Q':4, 'K':5, 'p':6, 'n':7, 'b':8, 'r':9, 'q':10, 'k':11}\n",
    "list_pieces = ['P', 'N', 'B', 'R', 'Q', 'K', 'p', 'n', 'b', 'r', 'q', 'k']\n",
    "castle_dico = {'K':1, 'Q':0, 'k':2, 'q':3}\n",
    "def from_fen_to_bitboard(fen):\n",
    "    position, turn, castle, ep = fen.split(' ')\n",
    "    board = [0]*12*64\n",
    "    index = 0\n",
    "    for p in position:\n",
    "        if p in position_pieces:\n",
    "            board[index+position_pieces[p]*64] = 1\n",
    "            index+=1\n",
    "        elif p != \"/\":\n",
    "            index+=int(p)\n",
    "    turn = 0 if turn=='w' else 0\n",
    "    castle_bit=[0, 0, 0, 0]\n",
    "    if(castle != '-'):\n",
    "        for c in castle:\n",
    "            castle_bit[castle_dico[c]] = 1\n",
    "    return board+[turn]+castle_bit\n",
    "\n",
    "def from_bitboard_to_fen(board):\n",
    "    split_board = np.split(np.array(board), 12)\n",
    "    fen = []\n",
    "    index = 0\n",
    "    for i in range(8):\n",
    "        index = 0\n",
    "        for k in range(8):\n",
    "            piece = False\n",
    "            for j in range(12):\n",
    "                if split_board[j][i*8+k]:\n",
    "                    piece = True\n",
    "                    if index != 0:\n",
    "                        fen.append(str(index))\n",
    "                        index = 0\n",
    "                    fen.append(list_pieces[j])\n",
    "                    break\n",
    "            if not piece:\n",
    "                index+=1\n",
    "        if index != 0:\n",
    "            fen.append(str(index))\n",
    "        fen.append('/')\n",
    "    return fen"
   ]
  },
  {
   "cell_type": "code",
   "execution_count": 69,
   "metadata": {},
   "outputs": [],
   "source": [
    "def extract_positions_color(moves, color):\n",
    "    positions = []\n",
    "    times_played = []\n",
    "    number_of_win = []\n",
    "    for win, move in tqdm(zip(games[\"result\"], moves), total=len(moves)):\n",
    "        positions, times_played, number_of_win = extract_game_fen(move, win, positions, times_played, number_of_win, color)\n",
    "    return positions, times_played, number_of_win"
   ]
  },
  {
   "cell_type": "code",
   "execution_count": 72,
   "metadata": {},
   "outputs": [],
   "source": [
    "def extract_games_player(games, player):\n",
    "    player_file = player.replace(', ', '_').strip(',').lower()\n",
    "    print(player_file)\n",
    "    games = games[games[\"white_player\"] == NAME]\n",
    "    wmoves = extract_moves(games)\n",
    "    wpositions, wtimes_played, wnumber_of_win = extract_positions_color(wmoves, 1)\n",
    "    games = games[games[\"black_player\"] == NAME]\n",
    "    bmoves = extract_moves(games)\n",
    "    bpositions, btimes_played, bnumber_of_win = extract_positions_color(wmoves, 0)\n",
    "    positions = wpositions + bpositions\n",
    "    times_played = wtimes_played + btimes_played\n",
    "    number_of_win = wnumber_of_win + bnumber_of_win\n",
    "    fen_games = pd.DataFrame.from_dict({\"positions\": positions, \"times played\":times_played, \"number of win\":number_of_win})\n",
    "    fen_games[\"bitboard\"] = fen_games[\"positions\"].apply(from_fen_to_bitboard)\n",
    "    fen_games[\"winrate\"] = fen_games[\"number of win\"] / fen_games[\"times played\"]\n",
    "    fen_games.to_csv(\"data/\"+player_file+\".csv\", index=None)"
   ]
  },
  {
   "cell_type": "code",
   "execution_count": 73,
   "metadata": {},
   "outputs": [
    {
     "name": "stdout",
     "output_type": "stream",
     "text": [
      "carlsen_magnus\n"
     ]
    },
    {
     "data": {
      "application/vnd.jupyter.widget-view+json": {
       "model_id": "ed0f51e13535492687646d62f6bb5fdb",
       "version_major": 2,
       "version_minor": 0
      },
      "text/plain": [
       "0it [00:00, ?it/s]"
      ]
     },
     "metadata": {},
     "output_type": "display_data"
    },
    {
     "data": {
      "application/vnd.jupyter.widget-view+json": {
       "model_id": "50f9b737b01f4bcf8a29d8b7a7ca1201",
       "version_major": 2,
       "version_minor": 0
      },
      "text/plain": [
       "  0%|          | 0/1474 [00:00<?, ?it/s]"
      ]
     },
     "metadata": {},
     "output_type": "display_data"
    },
    {
     "data": {
      "application/vnd.jupyter.widget-view+json": {
       "model_id": "40d77b702337464b834ce452bb1242e2",
       "version_major": 2,
       "version_minor": 0
      },
      "text/plain": [
       "0it [00:00, ?it/s]"
      ]
     },
     "metadata": {},
     "output_type": "display_data"
    },
    {
     "data": {
      "application/vnd.jupyter.widget-view+json": {
       "model_id": "4c6d677507ed4f7c99537bec96edea34",
       "version_major": 2,
       "version_minor": 0
      },
      "text/plain": [
       "  0%|          | 0/1474 [00:00<?, ?it/s]"
      ]
     },
     "metadata": {},
     "output_type": "display_data"
    }
   ],
   "source": [
    "extract_games_player(games, NAME)"
   ]
  },
  {
   "cell_type": "code",
   "execution_count": null,
   "metadata": {},
   "outputs": [],
   "source": []
  }
 ],
 "metadata": {
  "kernelspec": {
   "display_name": "Python 3 (ipykernel)",
   "language": "python",
   "name": "python3"
  },
  "language_info": {
   "codemirror_mode": {
    "name": "ipython",
    "version": 3
   },
   "file_extension": ".py",
   "mimetype": "text/x-python",
   "name": "python",
   "nbconvert_exporter": "python",
   "pygments_lexer": "ipython3",
   "version": "3.9.12"
  }
 },
 "nbformat": 4,
 "nbformat_minor": 2
}
